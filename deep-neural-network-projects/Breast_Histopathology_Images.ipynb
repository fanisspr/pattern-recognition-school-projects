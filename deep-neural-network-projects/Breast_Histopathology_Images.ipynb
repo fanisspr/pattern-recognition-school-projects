{
  "cells": [
    {
      "cell_type": "markdown",
      "metadata": {
        "id": "2Ns8o1Fq12YE"
      },
      "source": [
        "# Fetching breast-histopathology-images dataset from kaggle"
      ]
    },
    {
      "cell_type": "code",
      "execution_count": null,
      "metadata": {
        "id": "-Lb0cr50JR3e",
        "vscode": {
          "languageId": "python"
        }
      },
      "outputs": [],
      "source": [
        "from google.colab import files\n",
        "files.upload()"
      ]
    },
    {
      "cell_type": "code",
      "execution_count": 3,
      "metadata": {
        "id": "MNTnPBSwKPah",
        "vscode": {
          "languageId": "python"
        }
      },
      "outputs": [],
      "source": [
        "!mkdir -p ~/.kaggle\n",
        "!cp kaggle.json ~/.kaggle/\n",
        "!chmod 600 ~/.kaggle/kaggle.json"
      ]
    },
    {
      "cell_type": "code",
      "execution_count": null,
      "metadata": {
        "id": "xGygDtU8FcST",
        "vscode": {
          "languageId": "python"
        }
      },
      "outputs": [],
      "source": [
        "!kaggle datasets download -d paultimothymooney/breast-histopathology-images"
      ]
    },
    {
      "cell_type": "code",
      "execution_count": null,
      "metadata": {
        "id": "Am_dlhSSKanz",
        "vscode": {
          "languageId": "python"
        }
      },
      "outputs": [],
      "source": [
        "!ls"
      ]
    },
    {
      "cell_type": "code",
      "execution_count": null,
      "metadata": {
        "id": "BpWdDA6JKbOX",
        "vscode": {
          "languageId": "python"
        }
      },
      "outputs": [],
      "source": [
        "! mkdir data\n",
        "! unzip breast-histopathology-images.zip -d data"
      ]
    },
    {
      "cell_type": "code",
      "execution_count": 7,
      "metadata": {
        "id": "uQognYS23IUe",
        "vscode": {
          "languageId": "python"
        }
      },
      "outputs": [],
      "source": [
        "!rm breast-histopathology-images.zip"
      ]
    },
    {
      "cell_type": "markdown",
      "metadata": {
        "id": "EcoDOrA92IJ6"
      },
      "source": [
        "# Preprocessing data"
      ]
    },
    {
      "cell_type": "code",
      "execution_count": 59,
      "metadata": {
        "colab": {
          "base_uri": "https://localhost:8080/"
        },
        "id": "i_wlYpP1B2LE",
        "outputId": "8cf76de9-97b1-42e3-da68-4d069d413819",
        "vscode": {
          "languageId": "python"
        }
      },
      "outputs": [
        {
          "name": "stdout",
          "output_type": "stream",
          "text": [
            "The tensorboard extension is already loaded. To reload it, use:\n",
            "  %reload_ext tensorboard\n"
          ]
        }
      ],
      "source": [
        "# import libraries\n",
        "from glob import glob\n",
        "import os\n",
        "from os import listdir\n",
        "import datetime\n",
        "import numpy as np\n",
        "import pandas as pd\n",
        "\n",
        "import matplotlib.pyplot as plt\n",
        "import seaborn as sns\n",
        "%matplotlib inline\n",
        "\n",
        "import tensorflow as tf\n",
        "import keras\n",
        "# from tensorflow import keras\n",
        "from keras.preprocessing.image import ImageDataGenerator,load_img, img_to_array\n",
        "from keras.models import Sequential, load_model, Model\n",
        "from keras.layers import Activation, Dense, Dropout, Input, Flatten, Conv2D, MaxPooling2D, AveragePooling2D\n",
        "from keras.layers.normalization import BatchNormalization\n",
        "from keras.metrics import Precision, Recall, TruePositives\n",
        "from keras.callbacks import Callback,ModelCheckpoint, EarlyStopping\n",
        "from keras.optimizers import Adam\n",
        "import keras.backend as K\n",
        "from keras.utils.np_utils import to_categorical\n",
        "%load_ext tensorboard\n",
        "\n",
        "from sklearn.metrics import confusion_matrix\n",
        "from sklearn.model_selection import train_test_split\n",
        "\n",
        "import cv2\n",
        "from skimage.io import imread\n",
        "import imblearn\n",
        "from imblearn.over_sampling import SMOTE"
      ]
    },
    {
      "cell_type": "code",
      "execution_count": 3,
      "metadata": {
        "colab": {
          "base_uri": "https://localhost:8080/"
        },
        "id": "lrxaBFffAJfX",
        "outputId": "85a86dde-0bf1-416e-f890-195d1c386d88",
        "vscode": {
          "languageId": "python"
        }
      },
      "outputs": [
        {
          "name": "stdout",
          "output_type": "stream",
          "text": [
            "Number of patients: 279\n"
          ]
        }
      ],
      "source": [
        "base_path = \"/content/data/IDC_regular_ps50_idx5/\"\n",
        "folder = listdir(base_path)\n",
        "print('Number of patients:'+' '+str(len(folder)))"
      ]
    },
    {
      "cell_type": "code",
      "execution_count": 4,
      "metadata": {
        "colab": {
          "base_uri": "https://localhost:8080/"
        },
        "id": "jQBETUR1AxsJ",
        "outputId": "d559ee85-7271-49f8-a8c6-0de81b50f732",
        "vscode": {
          "languageId": "python"
        }
      },
      "outputs": [
        {
          "data": {
            "text/plain": [
              "277524"
            ]
          },
          "execution_count": 4,
          "metadata": {
            "tags": []
          },
          "output_type": "execute_result"
        }
      ],
      "source": [
        "total_images = 0\n",
        "for n in range(len(folder)):\n",
        "    patient_id = folder[n]\n",
        "    patient_path = base_path + patient_id \n",
        "    for c in [0, 1]:    \n",
        "        class_path = patient_path + \"/\" + str(c) + \"/\"\n",
        "        subfiles = listdir(class_path)\n",
        "        total_images += len(subfiles)\n",
        "\n",
        "total_images        "
      ]
    },
    {
      "cell_type": "code",
      "execution_count": 5,
      "metadata": {
        "colab": {
          "base_uri": "https://localhost:8080/",
          "height": 204
        },
        "id": "WQp6NU2pCJoO",
        "outputId": "6edb7f76-2ae6-4fff-af86-c4d601ef130f",
        "vscode": {
          "languageId": "python"
        }
      },
      "outputs": [
        {
          "data": {
            "text/html": [
              "<div>\n",
              "<style scoped>\n",
              "    .dataframe tbody tr th:only-of-type {\n",
              "        vertical-align: middle;\n",
              "    }\n",
              "\n",
              "    .dataframe tbody tr th {\n",
              "        vertical-align: top;\n",
              "    }\n",
              "\n",
              "    .dataframe thead th {\n",
              "        text-align: right;\n",
              "    }\n",
              "</style>\n",
              "<table border=\"1\" class=\"dataframe\">\n",
              "  <thead>\n",
              "    <tr style=\"text-align: right;\">\n",
              "      <th></th>\n",
              "      <th>patient_id</th>\n",
              "      <th>path</th>\n",
              "      <th>target</th>\n",
              "    </tr>\n",
              "  </thead>\n",
              "  <tbody>\n",
              "    <tr>\n",
              "      <th>0</th>\n",
              "      <td>15902</td>\n",
              "      <td>/content/data/IDC_regular_ps50_idx5/15902/0/15...</td>\n",
              "      <td>0</td>\n",
              "    </tr>\n",
              "    <tr>\n",
              "      <th>1</th>\n",
              "      <td>15902</td>\n",
              "      <td>/content/data/IDC_regular_ps50_idx5/15902/0/15...</td>\n",
              "      <td>0</td>\n",
              "    </tr>\n",
              "    <tr>\n",
              "      <th>2</th>\n",
              "      <td>15902</td>\n",
              "      <td>/content/data/IDC_regular_ps50_idx5/15902/0/15...</td>\n",
              "      <td>0</td>\n",
              "    </tr>\n",
              "    <tr>\n",
              "      <th>3</th>\n",
              "      <td>15902</td>\n",
              "      <td>/content/data/IDC_regular_ps50_idx5/15902/0/15...</td>\n",
              "      <td>0</td>\n",
              "    </tr>\n",
              "    <tr>\n",
              "      <th>4</th>\n",
              "      <td>15902</td>\n",
              "      <td>/content/data/IDC_regular_ps50_idx5/15902/0/15...</td>\n",
              "      <td>0</td>\n",
              "    </tr>\n",
              "  </tbody>\n",
              "</table>\n",
              "</div>"
            ],
            "text/plain": [
              "  patient_id                                               path target\n",
              "0      15902  /content/data/IDC_regular_ps50_idx5/15902/0/15...      0\n",
              "1      15902  /content/data/IDC_regular_ps50_idx5/15902/0/15...      0\n",
              "2      15902  /content/data/IDC_regular_ps50_idx5/15902/0/15...      0\n",
              "3      15902  /content/data/IDC_regular_ps50_idx5/15902/0/15...      0\n",
              "4      15902  /content/data/IDC_regular_ps50_idx5/15902/0/15...      0"
            ]
          },
          "execution_count": 5,
          "metadata": {
            "tags": []
          },
          "output_type": "execute_result"
        }
      ],
      "source": [
        "# Storing the image_path, patient_id and the target\n",
        "data = pd.DataFrame(index=np.arange(0, total_images), columns=[\"patient_id\", \"path\", \"target\"])\n",
        "\n",
        "k = 0\n",
        "for n in range(len(folder)):\n",
        "    patient_id = folder[n]\n",
        "    patient_path = base_path + patient_id \n",
        "    for c in [0,1]:\n",
        "        class_path = patient_path + \"/\" + str(c) + \"/\"\n",
        "        subfiles = listdir(class_path)\n",
        "        for m in range(len(subfiles)):\n",
        "            image_path = subfiles[m]\n",
        "            data.iloc[k][\"path\"] = class_path + image_path\n",
        "            data.iloc[k][\"target\"] = c\n",
        "            data.iloc[k][\"patient_id\"] = patient_id\n",
        "            k += 1  \n",
        "\n",
        "data.head()"
      ]
    },
    {
      "cell_type": "code",
      "execution_count": 5,
      "metadata": {
        "id": "e3rQ-isyEF8l",
        "vscode": {
          "languageId": "python"
        }
      },
      "outputs": [],
      "source": [
        "data.target = data.target.astype(np.int)\n",
        "\n",
        "pos_selection = np.random.choice(data[data.target==1].index.values, size=5, replace=False)\n",
        "neg_selection = np.random.choice(data[data.target==0].index.values, size=5, replace=False)"
      ]
    },
    {
      "cell_type": "markdown",
      "metadata": {
        "id": "olocBuW8Hznf"
      },
      "source": [
        "Some healthy samples:"
      ]
    },
    {
      "cell_type": "code",
      "execution_count": 6,
      "metadata": {
        "colab": {
          "base_uri": "https://localhost:8080/",
          "height": 242
        },
        "id": "AZo8ouUiFlqS",
        "outputId": "827af54a-e549-4b9f-c20a-16e3b5e9e9da",
        "vscode": {
          "languageId": "python"
        }
      },
      "outputs": [
        {
          "data": {
            "image/png": "[encoded data removed]",
            "text/plain": [
              "<Figure size 1440x720 with 5 Axes>"
            ]
          },
          "metadata": {
            "needs_background": "light",
            "tags": []
          },
          "output_type": "display_data"
        }
      ],
      "source": [
        "fig, ax = plt.subplots(1,5,figsize=(20,10))\n",
        "\n",
        "for m in range(5):\n",
        "    idx = neg_selection[m]\n",
        "    image = imread(data.loc[idx, \"path\"])\n",
        "    ax[m].imshow(image)\n",
        "    ax[m].grid(False)"
      ]
    },
    {
      "cell_type": "markdown",
      "metadata": {
        "id": "mTOhF9lIIGpA"
      },
      "source": [
        "Some samples with Invasive Ductal Carcinoma (IDC):"
      ]
    },
    {
      "cell_type": "code",
      "execution_count": 7,
      "metadata": {
        "colab": {
          "base_uri": "https://localhost:8080/",
          "height": 242
        },
        "id": "kmIGzezyHofp",
        "outputId": "76236045-bcb1-4ddf-869d-d3d5fbead258",
        "vscode": {
          "languageId": "python"
        }
      },
      "outputs": [
        {
          "data": {
            "image/png": "[encoded data removed]",
            "text/plain": [
              "<Figure size 1440x720 with 5 Axes>"
            ]
          },
          "metadata": {
            "needs_background": "light",
            "tags": []
          },
          "output_type": "display_data"
        }
      ],
      "source": [
        "fig, ax = plt.subplots(1,5,figsize=(20,10))\n",
        "\n",
        "for m in range(5):\n",
        "    idx = pos_selection[m]\n",
        "    image = imread(data.loc[idx, \"path\"])\n",
        "    ax[m].imshow(image)\n",
        "    ax[m].grid(False)"
      ]
    },
    {
      "cell_type": "code",
      "execution_count": 6,
      "metadata": {
        "id": "ZkC5Qwld4rZw",
        "vscode": {
          "languageId": "python"
        }
      },
      "outputs": [],
      "source": [
        "patients = data.patient_id.unique()\n",
        "\n",
        "# 70% 15% 15% split\n",
        "train_ids, sub_test_ids = train_test_split(patients,\n",
        "                                           test_size=0.3,\n",
        "                                           random_state=0)\n",
        "test_ids, val_ids = train_test_split(sub_test_ids, test_size=0.5, random_state=0)"
      ]
    },
    {
      "cell_type": "code",
      "execution_count": 10,
      "metadata": {
        "colab": {
          "base_uri": "https://localhost:8080/"
        },
        "id": "OKWsKzqLpgH1",
        "outputId": "b9e08bbe-7695-4b08-abbb-17bff7c9fd3f",
        "vscode": {
          "languageId": "python"
        }
      },
      "outputs": [
        {
          "name": "stdout",
          "output_type": "stream",
          "text": [
            "195 42 42\n"
          ]
        }
      ],
      "source": [
        "print(len(train_ids), len(val_ids), len(test_ids))"
      ]
    },
    {
      "cell_type": "code",
      "execution_count": 7,
      "metadata": {
        "id": "nTgWKNUyHinq",
        "vscode": {
          "languageId": "python"
        }
      },
      "outputs": [],
      "source": [
        "train_df = data.loc[data.patient_id.isin(train_ids),:].copy()\n",
        "test_df = data.loc[data.patient_id.isin(test_ids),:].copy()\n",
        "val_df = data.loc[data.patient_id.isin(val_ids),:].copy()"
      ]
    },
    {
      "cell_type": "code",
      "execution_count": 9,
      "metadata": {
        "colab": {
          "base_uri": "https://localhost:8080/",
          "height": 366
        },
        "id": "rhlxnK2HFIxj",
        "outputId": "21547e4a-eadd-45df-ea96-26fbdde7daea",
        "vscode": {
          "languageId": "python"
        }
      },
      "outputs": [
        {
          "name": "stderr",
          "output_type": "stream",
          "text": [
            "/usr/local/lib/python3.7/dist-packages/seaborn/_decorators.py:43: FutureWarning: Pass the following variable as a keyword arg: x. From version 0.12, the only valid positional argument will be `data`, and passing other arguments without an explicit keyword will result in an error or misinterpretation.\n",
            "  FutureWarning\n"
          ]
        },
        {
          "data": {
            "text/plain": [
              "Text(0.5, 1.0, 'Negative vs Positive')"
            ]
          },
          "execution_count": 9,
          "metadata": {
            "tags": []
          },
          "output_type": "execute_result"
        },
        {
          "data": {
            "image/png": "[encoded data removed]",
            "text/plain": [
              "<Figure size 432x288 with 1 Axes>"
            ]
          },
          "metadata": {
            "needs_background": "light",
            "tags": []
          },
          "output_type": "display_data"
        }
      ],
      "source": [
        "sns.countplot(train_df.target)\n",
        "plt.title(\"Negative vs Positive\")"
      ]
    },
    {
      "cell_type": "code",
      "execution_count": 14,
      "metadata": {
        "colab": {
          "base_uri": "https://localhost:8080/"
        },
        "id": "P7xjADZdHVeW",
        "outputId": "91c805be-5244-40c5-e46d-fb0f9e8859b0",
        "vscode": {
          "languageId": "python"
        }
      },
      "outputs": [
        {
          "name": "stdout",
          "output_type": "stream",
          "text": [
            "0    139949\n",
            "1     54597\n",
            "Name: target, dtype: int64\n"
          ]
        }
      ],
      "source": [
        "count = train_df.target.value_counts()\n",
        "print(count)"
      ]
    },
    {
      "cell_type": "markdown",
      "metadata": {
        "id": "z2RDw9ERGj99"
      },
      "source": [
        "There is a big imbalance between the two classes. We need to resample the training dataset (ONLY the training, because we don't want to mess with the validation data and introduce bias.)"
      ]
    },
    {
      "cell_type": "code",
      "execution_count": 10,
      "metadata": {
        "id": "So0D31PjokXr",
        "vscode": {
          "languageId": "python"
        }
      },
      "outputs": [],
      "source": [
        "WIDTH = 50\n",
        "HEIGHT = 50\n",
        "X_train = []\n",
        "# Pick less data, because ram \n",
        "for img in train_df['path']:\n",
        "    full_size_image = cv2.imread(img)\n",
        "    X_train.append(cv2.resize(full_size_image, (WIDTH,HEIGHT), interpolation=cv2.INTER_CUBIC))"
      ]
    },
    {
      "cell_type": "code",
      "execution_count": 11,
      "metadata": {
        "colab": {
          "base_uri": "https://localhost:8080/"
        },
        "id": "lMN82uA7MxMi",
        "outputId": "6dbc17cd-9bb2-4be7-f5b6-f2ca1af78a73",
        "vscode": {
          "languageId": "python"
        }
      },
      "outputs": [
        {
          "name": "stdout",
          "output_type": "stream",
          "text": [
            "(194546, 50, 50, 3)\n",
            "[0. 0. 0. ... 1. 1. 1.]\n"
          ]
        }
      ],
      "source": [
        "X_train = np.asarray(X_train).astype(np.float32)\n",
        "y_train = np.asarray(train_df['target']).astype(np.float32)\n",
        "print(X_train.shape)\n",
        "print(y_train)"
      ]
    },
    {
      "cell_type": "code",
      "execution_count": 12,
      "metadata": {
        "id": "I33b0MavSajt",
        "vscode": {
          "languageId": "python"
        }
      },
      "outputs": [],
      "source": [
        "X_train_shape = X_train.shape[1]*X_train.shape[2]*X_train.shape[3]\n",
        "X_train_flat = X_train.reshape(X_train.shape[0],X_train_shape)"
      ]
    },
    {
      "cell_type": "code",
      "execution_count": 13,
      "metadata": {
        "colab": {
          "base_uri": "https://localhost:8080/"
        },
        "id": "uIsQ_97f8Ian",
        "outputId": "bbee5e4b-7a32-43af-863a-6a659426100a",
        "vscode": {
          "languageId": "python"
        }
      },
      "outputs": [
        {
          "name": "stderr",
          "output_type": "stream",
          "text": [
            "/usr/local/lib/python3.7/dist-packages/sklearn/utils/deprecation.py:87: FutureWarning: Function safe_indexing is deprecated; safe_indexing is deprecated in version 0.22 and will be removed in version 0.24.\n",
            "  warnings.warn(msg, category=FutureWarning)\n"
          ]
        }
      ],
      "source": [
        "from imblearn.under_sampling import RandomUnderSampler\n",
        "# from imblearn.over_sampling import RandomOverSampler\n",
        "#ros = RandomOverSampler(ratio='auto')\n",
        "rus = RandomUnderSampler(ratio='auto')\n",
        "X_rus,y_rus= rus.fit_resample(X_train_flat,y_train)"
      ]
    },
    {
      "cell_type": "code",
      "execution_count": 14,
      "metadata": {
        "colab": {
          "base_uri": "https://localhost:8080/"
        },
        "id": "ncGdbBXzaupL",
        "outputId": "62b3d98a-61f2-465c-d56e-1712b4ef6be1",
        "vscode": {
          "languageId": "python"
        }
      },
      "outputs": [
        {
          "name": "stdout",
          "output_type": "stream",
          "text": [
            "(38660,)\n",
            "(44318,)\n"
          ]
        }
      ],
      "source": [
        "y_val = np.array(val_df['target'])\n",
        "y_test = np.array(test_df['target'])\n",
        "print(y_val.shape)\n",
        "print(y_test.shape)"
      ]
    },
    {
      "cell_type": "code",
      "execution_count": 15,
      "metadata": {
        "id": "AvHTDeqPP9lr",
        "vscode": {
          "languageId": "python"
        }
      },
      "outputs": [],
      "source": [
        "y_train_hot = to_categorical(y_rus, num_classes = 2)"
      ]
    },
    {
      "cell_type": "code",
      "execution_count": 16,
      "metadata": {
        "id": "64TCY56CSGhH",
        "vscode": {
          "languageId": "python"
        }
      },
      "outputs": [],
      "source": [
        "val_df[['negative','positive']] = to_categorical(y_val, num_classes = 2)\n",
        "test_df[['negative','positive']] = to_categorical(y_test, num_classes = 2)"
      ]
    },
    {
      "cell_type": "code",
      "execution_count": 27,
      "metadata": {
        "colab": {
          "base_uri": "https://localhost:8080/",
          "height": 204
        },
        "id": "b5cgPLni6CZH",
        "outputId": "6347277e-68a4-42a1-84db-8c9efebd67fd",
        "vscode": {
          "languageId": "python"
        }
      },
      "outputs": [
        {
          "data": {
            "text/html": [
              "<div>\n",
              "<style scoped>\n",
              "    .dataframe tbody tr th:only-of-type {\n",
              "        vertical-align: middle;\n",
              "    }\n",
              "\n",
              "    .dataframe tbody tr th {\n",
              "        vertical-align: top;\n",
              "    }\n",
              "\n",
              "    .dataframe thead th {\n",
              "        text-align: right;\n",
              "    }\n",
              "</style>\n",
              "<table border=\"1\" class=\"dataframe\">\n",
              "  <thead>\n",
              "    <tr style=\"text-align: right;\">\n",
              "      <th></th>\n",
              "      <th>patient_id</th>\n",
              "      <th>path</th>\n",
              "      <th>target</th>\n",
              "      <th>negative</th>\n",
              "      <th>positive</th>\n",
              "    </tr>\n",
              "  </thead>\n",
              "  <tbody>\n",
              "    <tr>\n",
              "      <th>6908</th>\n",
              "      <td>10292</td>\n",
              "      <td>/content/data/IDC_regular_ps50_idx5/10292/0/10...</td>\n",
              "      <td>0</td>\n",
              "      <td>1.0</td>\n",
              "      <td>0.0</td>\n",
              "    </tr>\n",
              "    <tr>\n",
              "      <th>6909</th>\n",
              "      <td>10292</td>\n",
              "      <td>/content/data/IDC_regular_ps50_idx5/10292/0/10...</td>\n",
              "      <td>0</td>\n",
              "      <td>1.0</td>\n",
              "      <td>0.0</td>\n",
              "    </tr>\n",
              "    <tr>\n",
              "      <th>6910</th>\n",
              "      <td>10292</td>\n",
              "      <td>/content/data/IDC_regular_ps50_idx5/10292/0/10...</td>\n",
              "      <td>0</td>\n",
              "      <td>1.0</td>\n",
              "      <td>0.0</td>\n",
              "    </tr>\n",
              "    <tr>\n",
              "      <th>6911</th>\n",
              "      <td>10292</td>\n",
              "      <td>/content/data/IDC_regular_ps50_idx5/10292/0/10...</td>\n",
              "      <td>0</td>\n",
              "      <td>1.0</td>\n",
              "      <td>0.0</td>\n",
              "    </tr>\n",
              "    <tr>\n",
              "      <th>6912</th>\n",
              "      <td>10292</td>\n",
              "      <td>/content/data/IDC_regular_ps50_idx5/10292/0/10...</td>\n",
              "      <td>0</td>\n",
              "      <td>1.0</td>\n",
              "      <td>0.0</td>\n",
              "    </tr>\n",
              "  </tbody>\n",
              "</table>\n",
              "</div>"
            ],
            "text/plain": [
              "     patient_id  ... positive\n",
              "6908      10292  ...      0.0\n",
              "6909      10292  ...      0.0\n",
              "6910      10292  ...      0.0\n",
              "6911      10292  ...      0.0\n",
              "6912      10292  ...      0.0\n",
              "\n",
              "[5 rows x 5 columns]"
            ]
          },
          "execution_count": 27,
          "metadata": {
            "tags": []
          },
          "output_type": "execute_result"
        }
      ],
      "source": [
        "val_df.head()"
      ]
    },
    {
      "cell_type": "code",
      "execution_count": 17,
      "metadata": {
        "colab": {
          "base_uri": "https://localhost:8080/"
        },
        "id": "l4hGV1sQh8rj",
        "outputId": "e417ca5d-52a7-4a78-daa1-61a9bcb0f6cb",
        "vscode": {
          "languageId": "python"
        }
      },
      "outputs": [
        {
          "data": {
            "text/plain": [
              "(109194, 50, 50, 3)"
            ]
          },
          "execution_count": 17,
          "metadata": {
            "tags": []
          },
          "output_type": "execute_result"
        }
      ],
      "source": [
        "height, width, channels = 50,50,3\n",
        "for i in range(len(X_rus)):\n",
        "    X_train_reshaped = X_rus.reshape(len(X_rus),height,width,channels)\n",
        "X_train_reshaped.shape"
      ]
    },
    {
      "cell_type": "code",
      "execution_count": 29,
      "metadata": {
        "colab": {
          "base_uri": "https://localhost:8080/",
          "height": 352
        },
        "id": "PaEBcu7FuZZF",
        "outputId": "f354e64e-9d08-48df-c736-03a3ab8391dc",
        "vscode": {
          "languageId": "python"
        }
      },
      "outputs": [
        {
          "name": "stderr",
          "output_type": "stream",
          "text": [
            "/usr/local/lib/python3.7/dist-packages/seaborn/_decorators.py:43: FutureWarning: Pass the following variable as a keyword arg: x. From version 0.12, the only valid positional argument will be `data`, and passing other arguments without an explicit keyword will result in an error or misinterpretation.\n",
            "  FutureWarning\n"
          ]
        },
        {
          "data": {
            "text/plain": [
              "Text(0.5, 1.0, 'Negative vs Positive')"
            ]
          },
          "execution_count": 29,
          "metadata": {
            "tags": []
          },
          "output_type": "execute_result"
        },
        {
          "data": {
            "image/png": "[encoded data removed]",
            "text/plain": [
              "<Figure size 432x288 with 1 Axes>"
            ]
          },
          "metadata": {
            "needs_background": "light",
            "tags": []
          },
          "output_type": "display_data"
        }
      ],
      "source": [
        "sns.countplot(y_rus)\n",
        "plt.title(\"Negative vs Positive\")"
      ]
    },
    {
      "cell_type": "code",
      "execution_count": 19,
      "metadata": {
        "id": "2BbI5OzxS7V9",
        "vscode": {
          "languageId": "python"
        }
      },
      "outputs": [],
      "source": [
        "# Delete old variables to free ram space\n",
        "for element in ['X_train','X_train_flat','X_rus','train_df','y_rus','y_test','y_train','y_val']:\n",
        "  del globals()[element]\n",
        "del element  "
      ]
    },
    {
      "cell_type": "code",
      "execution_count": 20,
      "metadata": {
        "id": "V80WHllcV5pX",
        "vscode": {
          "languageId": "python"
        }
      },
      "outputs": [],
      "source": [
        "# Some hyper-parameters:\n",
        "img_height = 50\n",
        "img_width =  50  \n",
        "input_shape = (img_height, img_width, 3) #resize the input images to this shape\n",
        "batch_size  = 128        # Images per batch \n",
        "num_epochs  = 10      # Max number of training epochs\n",
        "\n",
        "# Number of classes:\n",
        "num_classes = 2"
      ]
    },
    {
      "cell_type": "markdown",
      "metadata": {
        "id": "kBvNrNCLIZvS"
      },
      "source": [
        "#CNN"
      ]
    },
    {
      "cell_type": "code",
      "execution_count": 28,
      "metadata": {
        "colab": {
          "base_uri": "https://localhost:8080/"
        },
        "id": "n59NTHLBypU3",
        "outputId": "fb801831-cb8a-455d-b1cc-c6eb6a059d5f",
        "vscode": {
          "languageId": "python"
        }
      },
      "outputs": [
        {
          "name": "stdout",
          "output_type": "stream",
          "text": [
            "Model: \"sequential_1\"\n",
            "_________________________________________________________________\n",
            "Layer (type)                 Output Shape              Param #   \n",
            "=================================================================\n",
            "conv2d_2 (Conv2D)            (None, 50, 50, 64)        1792      \n",
            "_________________________________________________________________\n",
            "batch_normalization_4 (Batch (None, 50, 50, 64)        256       \n",
            "_________________________________________________________________\n",
            "max_pooling2d_2 (MaxPooling2 (None, 16, 16, 64)        0         \n",
            "_________________________________________________________________\n",
            "conv2d_3 (Conv2D)            (None, 16, 16, 32)        18464     \n",
            "_________________________________________________________________\n",
            "batch_normalization_5 (Batch (None, 16, 16, 32)        128       \n",
            "_________________________________________________________________\n",
            "max_pooling2d_3 (MaxPooling2 (None, 5, 5, 32)          0         \n",
            "_________________________________________________________________\n",
            "flatten_1 (Flatten)          (None, 800)               0         \n",
            "_________________________________________________________________\n",
            "dense_3 (Dense)              (None, 128)               102528    \n",
            "_________________________________________________________________\n",
            "dropout_2 (Dropout)          (None, 128)               0         \n",
            "_________________________________________________________________\n",
            "batch_normalization_6 (Batch (None, 128)               512       \n",
            "_________________________________________________________________\n",
            "dense_4 (Dense)              (None, 128)               16512     \n",
            "_________________________________________________________________\n",
            "dropout_3 (Dropout)          (None, 128)               0         \n",
            "_________________________________________________________________\n",
            "batch_normalization_7 (Batch (None, 128)               512       \n",
            "_________________________________________________________________\n",
            "dense_5 (Dense)              (None, 2)                 258       \n",
            "=================================================================\n",
            "Total params: 140,962\n",
            "Trainable params: 140,258\n",
            "Non-trainable params: 704\n",
            "_________________________________________________________________\n"
          ]
        }
      ],
      "source": [
        "model = Sequential()\n",
        "\n",
        "# 1st convolution layer\n",
        "model.add(Conv2D(64,(3,3), padding='same', input_shape=input_shape, activation='relu'))\n",
        "model.add(BatchNormalization())\n",
        "model.add(MaxPooling2D(pool_size=(3,3)))\n",
        "\n",
        "# 2nd convolution layer\n",
        "model.add(Conv2D(32,(3,3),padding='same', activation='relu'))\n",
        "model.add(BatchNormalization())\n",
        "model.add(MaxPooling2D(pool_size=(3,3)))\n",
        "\n",
        "model.add(Flatten())\n",
        "# fully connected layers\n",
        "model.add(Dense(128, activation='relu'))\n",
        "model.add(Dropout(0.2))\n",
        "model.add(BatchNormalization())\n",
        "model.add(Dense(128, activation='relu'))\n",
        "model.add(Dropout(0.2))\n",
        "model.add(BatchNormalization())\n",
        "model.add(Dense(2, activation='softmax'))\n",
        "\n",
        "model.summary()"
      ]
    },
    {
      "cell_type": "code",
      "execution_count": 29,
      "metadata": {
        "id": "rNFuylSRypU4",
        "vscode": {
          "languageId": "python"
        }
      },
      "outputs": [],
      "source": [
        "def f1_score(y_true, y_pred): \n",
        "    true_positives = K.sum(K.round(K.clip(y_true * y_pred, 0, 1)))\n",
        "    possible_positives = K.sum(K.round(K.clip(y_true, 0, 1)))\n",
        "    predicted_positives = K.sum(K.round(K.clip(y_pred, 0, 1)))\n",
        "    precision = true_positives / (predicted_positives + K.epsilon())\n",
        "    recall = true_positives / (possible_positives + K.epsilon())\n",
        "    f1_val = 2*(precision*recall)/(precision+recall+K.epsilon())\n",
        "    return f1_val"
      ]
    },
    {
      "cell_type": "code",
      "execution_count": 30,
      "metadata": {
        "id": "7xzFLUkTypU5",
        "vscode": {
          "languageId": "python"
        }
      },
      "outputs": [],
      "source": [
        "model.compile(loss='categorical_crossentropy', \n",
        "              optimizer='adam', \n",
        "              metrics=['accuracy', Precision(), Recall(), f1_score])"
      ]
    },
    {
      "cell_type": "code",
      "execution_count": 31,
      "metadata": {
        "colab": {
          "base_uri": "https://localhost:8080/"
        },
        "id": "tov_tsiHypU6",
        "outputId": "94ce51e0-a016-4489-d44d-965ddbbe3f82",
        "vscode": {
          "languageId": "python"
        }
      },
      "outputs": [
        {
          "name": "stdout",
          "output_type": "stream",
          "text": [
            "Found 38660 validated image filenames.\n",
            "Found 44318 validated image filenames.\n"
          ]
        }
      ],
      "source": [
        "generator = ImageDataGenerator(rescale=1./255,\n",
        "                               horizontal_flip=True,\n",
        "                               rotation_range=90)\n",
        "\n",
        "train_generator = generator.flow(X_train_reshaped, \n",
        "                                 y_train_hot,     \n",
        "                                 batch_size=batch_size)   \n",
        "               \n",
        "val_generator = generator.flow_from_dataframe(dataframe=val_df,\n",
        "                                                x_col=\"path\",\n",
        "                                                y_col=[\"negative\",\"positive\"],\n",
        "                                                class_mode=\"raw\",\n",
        "                                                target_size = (img_height,img_width),                   \n",
        "                                                batch_size=batch_size)\n",
        "\n",
        "test_generator = generator.flow_from_dataframe(dataframe=test_df,\n",
        "                                                x_col=\"path\",\n",
        "                                                y_col=[\"negative\",\"positive\"],\n",
        "                                                class_mode=\"raw\",\n",
        "                                                target_size = (img_height,img_width),                   \n",
        "                                                batch_size=batch_size,\n",
        "                                                shuffle=False)"
      ]
    },
    {
      "cell_type": "code",
      "execution_count": 32,
      "metadata": {
        "id": "ZJB8Bi9uypU6",
        "vscode": {
          "languageId": "python"
        }
      },
      "outputs": [],
      "source": [
        "logdir = os.path.join(\"./logs/CNN\", datetime.datetime.now().strftime(\"%Y%m%d-%H%M%S\"))\n",
        "tensorboard_callback = tf.keras.callbacks.TensorBoard(logdir,histogram_freq=1)"
      ]
    },
    {
      "cell_type": "code",
      "execution_count": 33,
      "metadata": {
        "colab": {
          "base_uri": "https://localhost:8080/"
        },
        "id": "M0RzdG1CypU7",
        "outputId": "64170d2b-64b2-4aaa-fa3d-31bb49d0b24f",
        "vscode": {
          "languageId": "python"
        }
      },
      "outputs": [
        {
          "name": "stdout",
          "output_type": "stream",
          "text": [
            "Epoch 1/10\n",
            "853/853 [==============================] - 127s 147ms/step - loss: 0.4862 - accuracy: 0.7853 - precision_1: 0.7853 - recall_1: 0.7853 - f1_score: 0.7853 - val_loss: 0.9902 - val_accuracy: 0.4903 - val_precision_1: 0.4903 - val_recall_1: 0.4903 - val_f1_score: 0.4903\n",
            "Epoch 2/10\n",
            "853/853 [==============================] - 110s 129ms/step - loss: 0.3836 - accuracy: 0.8342 - precision_1: 0.8342 - recall_1: 0.8342 - f1_score: 0.8341 - val_loss: 0.6159 - val_accuracy: 0.7880 - val_precision_1: 0.7880 - val_recall_1: 0.7880 - val_f1_score: 0.7880\n",
            "Epoch 3/10\n",
            "853/853 [==============================] - 110s 129ms/step - loss: 0.3719 - accuracy: 0.8387 - precision_1: 0.8387 - recall_1: 0.8387 - f1_score: 0.8383 - val_loss: 2.6903 - val_accuracy: 0.2820 - val_precision_1: 0.2820 - val_recall_1: 0.2820 - val_f1_score: 0.2820\n",
            "Epoch 4/10\n",
            "853/853 [==============================] - 109s 128ms/step - loss: 0.3617 - accuracy: 0.8455 - precision_1: 0.8455 - recall_1: 0.8455 - f1_score: 0.8454 - val_loss: 0.6545 - val_accuracy: 0.7326 - val_precision_1: 0.7326 - val_recall_1: 0.7326 - val_f1_score: 0.7326\n",
            "Epoch 5/10\n",
            "853/853 [==============================] - 109s 128ms/step - loss: 0.3588 - accuracy: 0.8466 - precision_1: 0.8466 - recall_1: 0.8466 - f1_score: 0.8467 - val_loss: 0.5419 - val_accuracy: 0.7405 - val_precision_1: 0.7405 - val_recall_1: 0.7405 - val_f1_score: 0.7405\n",
            "Epoch 6/10\n",
            "853/853 [==============================] - 109s 128ms/step - loss: 0.3503 - accuracy: 0.8501 - precision_1: 0.8501 - recall_1: 0.8501 - f1_score: 0.8501 - val_loss: 0.8054 - val_accuracy: 0.5988 - val_precision_1: 0.5988 - val_recall_1: 0.5988 - val_f1_score: 0.5988\n",
            "Epoch 7/10\n",
            "853/853 [==============================] - 110s 129ms/step - loss: 0.3474 - accuracy: 0.8529 - precision_1: 0.8529 - recall_1: 0.8529 - f1_score: 0.8528 - val_loss: 0.7996 - val_accuracy: 0.6198 - val_precision_1: 0.6198 - val_recall_1: 0.6198 - val_f1_score: 0.6198\n",
            "Epoch 8/10\n",
            "853/853 [==============================] - 110s 129ms/step - loss: 0.3413 - accuracy: 0.8543 - precision_1: 0.8543 - recall_1: 0.8543 - f1_score: 0.8542 - val_loss: 1.3342 - val_accuracy: 0.3086 - val_precision_1: 0.3086 - val_recall_1: 0.3086 - val_f1_score: 0.3086\n",
            "Epoch 9/10\n",
            "853/853 [==============================] - 110s 129ms/step - loss: 0.3395 - accuracy: 0.8560 - precision_1: 0.8560 - recall_1: 0.8560 - f1_score: 0.8562 - val_loss: 0.8029 - val_accuracy: 0.7937 - val_precision_1: 0.7937 - val_recall_1: 0.7937 - val_f1_score: 0.7937\n",
            "Epoch 10/10\n",
            "853/853 [==============================] - 111s 131ms/step - loss: 0.3344 - accuracy: 0.8575 - precision_1: 0.8575 - recall_1: 0.8575 - f1_score: 0.8575 - val_loss: 1.9864 - val_accuracy: 0.2980 - val_precision_1: 0.2980 - val_recall_1: 0.2980 - val_f1_score: 0.2980\n"
          ]
        }
      ],
      "source": [
        "#save best model\n",
        "filepath = './models/CNN.h5'\n",
        "callbacks = [ModelCheckpoint(filepath, monitor = 'val_loss', save_best_only=True),\n",
        "             tensorboard_callback] \n",
        "\n",
        "#Train model\n",
        "hist = model.fit(train_generator, \n",
        "                    steps_per_epoch=len(y_train_hot)//batch_size, \n",
        "                    epochs=num_epochs, \n",
        "                    verbose=1, \n",
        "                    validation_data=val_generator, \n",
        "                    validation_steps=val_generator.samples//batch_size,\n",
        "                    callbacks=callbacks) "
      ]
    },
    {
      "cell_type": "code",
      "execution_count": null,
      "metadata": {
        "id": "iOTVwjIQypU7",
        "vscode": {
          "languageId": "python"
        }
      },
      "outputs": [],
      "source": [
        "%tensorboard --logdir logs/CNN"
      ]
    },
    {
      "cell_type": "code",
      "execution_count": 35,
      "metadata": {
        "colab": {
          "base_uri": "https://localhost:8080/",
          "height": 265
        },
        "id": "WH2CKnxQypU7",
        "outputId": "7e5c0bca-133d-4b2c-e28d-3f352b845696",
        "vscode": {
          "languageId": "python"
        }
      },
      "outputs": [
        {
          "data": {
            "image/png": "[encoded data removed]",
            "text/plain": [
              "<Figure size 432x288 with 1 Axes>"
            ]
          },
          "metadata": {
            "needs_background": "light",
            "tags": []
          },
          "output_type": "display_data"
        }
      ],
      "source": [
        "plt.plot(hist.history[\"loss\"],label=\"training loss\")\n",
        "plt.plot(hist.history[\"val_loss\"],label=\"validation loss\")\n",
        "plt.legend()\n",
        "plt.show();"
      ]
    },
    {
      "cell_type": "code",
      "execution_count": 36,
      "metadata": {
        "colab": {
          "base_uri": "https://localhost:8080/",
          "height": 265
        },
        "id": "Yz4Yi9eoypU8",
        "outputId": "cbd33c8b-04ba-439f-f499-d65e88416132",
        "vscode": {
          "languageId": "python"
        }
      },
      "outputs": [
        {
          "data": {
            "image/png": "[encoded data removed]",
            "text/plain": [
              "<Figure size 432x288 with 1 Axes>"
            ]
          },
          "metadata": {
            "needs_background": "light",
            "tags": []
          },
          "output_type": "display_data"
        }
      ],
      "source": [
        "plt.plot(hist.history[\"accuracy\"],label=\"training accuracy\")\n",
        "plt.plot(hist.history[\"val_accuracy\"],label=\"validation accuracy\")\n",
        "plt.legend()\n",
        "plt.show();"
      ]
    },
    {
      "cell_type": "code",
      "execution_count": 37,
      "metadata": {
        "colab": {
          "base_uri": "https://localhost:8080/"
        },
        "id": "QeU-UBPtypU8",
        "outputId": "be7ee804-6b17-4267-b78c-db1363945aaa",
        "vscode": {
          "languageId": "python"
        }
      },
      "outputs": [
        {
          "name": "stdout",
          "output_type": "stream",
          "text": [
            "347/347 [==============================] - 59s 169ms/step - loss: 0.6639 - accuracy: 0.7419 - precision_2: 0.7419 - recall_2: 0.7419 - f1_score: 0.7419\n",
            "Test loss:  0.6508168578147888\n",
            "Test accuracy: 0.7563969492912292\n",
            "Test precision: 0.7563969492912292\n",
            "Test recall: 0.7563969492912292\n",
            "Test f1_score: 0.7567872405052185\n"
          ]
        }
      ],
      "source": [
        "model = load_model('./models/CNN.h5', custom_objects={'f1_score': f1_score})\n",
        "\n",
        "model.compile(loss='binary_crossentropy', \n",
        "              optimizer='adam', \n",
        "              metrics=['accuracy', Precision(), Recall(), f1_score])\n",
        "\n",
        "loss, accuracy, precision, recall, f1_score = model.evaluate(test_generator)\n",
        "print('Test loss: ', loss)\n",
        "print('Test accuracy:', accuracy)\n",
        "print('Test precision:', precision)\n",
        "print('Test recall:', recall)\n",
        "print('Test f1_score:', f1_score)"
      ]
    },
    {
      "cell_type": "code",
      "execution_count": 50,
      "metadata": {
        "colab": {
          "base_uri": "https://localhost:8080/",
          "height": 405
        },
        "id": "c8wOJIrSypU8",
        "outputId": "f9906c3e-0bb9-4446-f826-2ffb50ce7094",
        "vscode": {
          "languageId": "python"
        }
      },
      "outputs": [
        {
          "data": {
            "text/plain": [
              "Text(0.5, 33.0, 'Predicted label')"
            ]
          },
          "execution_count": 50,
          "metadata": {
            "tags": []
          },
          "output_type": "execute_result"
        },
        {
          "data": {
            "image/png": "[encoded data removed]",
            "text/plain": [
              "<Figure size 576x432 with 1 Axes>"
            ]
          },
          "metadata": {
            "needs_background": "light",
            "tags": []
          },
          "output_type": "display_data"
        }
      ],
      "source": [
        "test_generator.reset()\n",
        "predictions = model.predict(test_generator,\n",
        "                            steps = np.ceil(test_generator.samples/batch_size)\n",
        "                            )\n",
        "y_pred = np.argmax(predictions, axis=-1)\n",
        "# y_test = test_generator.labels\n",
        "y_test = test_df.target.to_numpy().astype(np.int)\n",
        "\n",
        "cf_matrix = confusion_matrix(y_test, y_pred)\n",
        "\n",
        "#Prepare visuals\n",
        "group_counts = [\"{0:0.0f}\".format(value) for value in\n",
        "                cf_matrix.flatten()]\n",
        "group_percentages = [\"{0:.2%}\".format(value) for value in\n",
        "                     cf_matrix.flatten()/np.sum(cf_matrix)]\n",
        "labels = [f\"{v1}\\n{v2}\" for v1, v2 in\n",
        "          zip(group_counts,group_percentages)]\n",
        "labels = np.asarray(labels).reshape(2,2)\n",
        "\n",
        "# MAKE THE HEATMAP VISUALIZATION\n",
        "plt.figure(figsize=(8,6))\n",
        "sns.heatmap(cf_matrix, annot=labels, fmt='', cmap='Blues', cbar=False)\n",
        "plt.ylabel('True label')\n",
        "plt.xlabel('Predicted label')"
      ]
    },
    {
      "cell_type": "markdown",
      "metadata": {
        "id": "yHjJxOZcAemj"
      },
      "source": [
        "# ResNet-50"
      ]
    },
    {
      "cell_type": "code",
      "execution_count": 63,
      "metadata": {
        "id": "mt2CIhRgdX1O",
        "vscode": {
          "languageId": "python"
        }
      },
      "outputs": [],
      "source": [
        "from keras.applications import ResNet50"
      ]
    },
    {
      "cell_type": "code",
      "execution_count": 64,
      "metadata": {
        "id": "qWc4TvpGfOY1",
        "vscode": {
          "languageId": "python"
        }
      },
      "outputs": [],
      "source": [
        "baseModel = ResNet50(weights=None, include_top=False,\n",
        "\tinput_tensor=Input(shape=(img_height, img_width, 3)))\n",
        "\n",
        "# construct the head of the model that will be placed on top of the\n",
        "# the base model\n",
        "headModel = baseModel.output\n",
        "headModel = AveragePooling2D(pool_size=(num_classes, num_classes))(headModel)\n",
        "headModel = Flatten(name=\"flatten\")(headModel)\n",
        "headModel = Dense(128, activation=\"relu\")(headModel)\n",
        "headModel = Dropout(0.2)(headModel)\n",
        "headModel = BatchNormalization()(headModel)\n",
        "headModel = Dense(128, activation=\"relu\")(headModel)\n",
        "headModel = Dropout(0.2)(headModel)\n",
        "headModel = BatchNormalization()(headModel)\n",
        "headModel = Dense(num_classes, activation=\"softmax\")(headModel)\n",
        "\n",
        "# place the head FC model on top of the base model\n",
        "model = Model(inputs=baseModel.input, outputs=headModel)"
      ]
    },
    {
      "cell_type": "code",
      "execution_count": 65,
      "metadata": {
        "colab": {
          "base_uri": "https://localhost:8080/"
        },
        "id": "e5Y7UVweglrd",
        "outputId": "49e66e47-6601-479b-8301-2df961815497",
        "vscode": {
          "languageId": "python"
        }
      },
      "outputs": [
        {
          "name": "stdout",
          "output_type": "stream",
          "text": [
            "Model: \"model_1\"\n",
            "__________________________________________________________________________________________________\n",
            "Layer (type)                    Output Shape         Param #     Connected to                     \n",
            "==================================================================================================\n",
            "input_5 (InputLayer)            [(None, 50, 50, 3)]  0                                            \n",
            "__________________________________________________________________________________________________\n",
            "conv1_pad (ZeroPadding2D)       (None, 56, 56, 3)    0           input_5[0][0]                    \n",
            "__________________________________________________________________________________________________\n",
            "conv1_conv (Conv2D)             (None, 25, 25, 64)   9472        conv1_pad[0][0]                  \n",
            "__________________________________________________________________________________________________\n",
            "conv1_bn (BatchNormalization)   (None, 25, 25, 64)   256         conv1_conv[0][0]                 \n",
            "__________________________________________________________________________________________________\n",
            "conv1_relu (Activation)         (None, 25, 25, 64)   0           conv1_bn[0][0]                   \n",
            "__________________________________________________________________________________________________\n",
            "pool1_pad (ZeroPadding2D)       (None, 27, 27, 64)   0           conv1_relu[0][0]                 \n",
            "__________________________________________________________________________________________________\n",
            "pool1_pool (MaxPooling2D)       (None, 13, 13, 64)   0           pool1_pad[0][0]                  \n",
            "__________________________________________________________________________________________________\n",
            "conv2_block1_1_conv (Conv2D)    (None, 13, 13, 64)   4160        pool1_pool[0][0]                 \n",
            "__________________________________________________________________________________________________\n",
            "conv2_block1_1_bn (BatchNormali (None, 13, 13, 64)   256         conv2_block1_1_conv[0][0]        \n",
            "__________________________________________________________________________________________________\n",
            "conv2_block1_1_relu (Activation (None, 13, 13, 64)   0           conv2_block1_1_bn[0][0]          \n",
            "__________________________________________________________________________________________________\n",
            "conv2_block1_2_conv (Conv2D)    (None, 13, 13, 64)   36928       conv2_block1_1_relu[0][0]        \n",
            "__________________________________________________________________________________________________\n",
            "conv2_block1_2_bn (BatchNormali (None, 13, 13, 64)   256         conv2_block1_2_conv[0][0]        \n",
            "__________________________________________________________________________________________________\n",
            "conv2_block1_2_relu (Activation (None, 13, 13, 64)   0           conv2_block1_2_bn[0][0]          \n",
            "__________________________________________________________________________________________________\n",
            "conv2_block1_0_conv (Conv2D)    (None, 13, 13, 256)  16640       pool1_pool[0][0]                 \n",
            "__________________________________________________________________________________________________\n",
            "conv2_block1_3_conv (Conv2D)    (None, 13, 13, 256)  16640       conv2_block1_2_relu[0][0]        \n",
            "__________________________________________________________________________________________________\n",
            "conv2_block1_0_bn (BatchNormali (None, 13, 13, 256)  1024        conv2_block1_0_conv[0][0]        \n",
            "__________________________________________________________________________________________________\n",
            "conv2_block1_3_bn (BatchNormali (None, 13, 13, 256)  1024        conv2_block1_3_conv[0][0]        \n",
            "__________________________________________________________________________________________________\n",
            "conv2_block1_add (Add)          (None, 13, 13, 256)  0           conv2_block1_0_bn[0][0]          \n",
            "                                                                 conv2_block1_3_bn[0][0]          \n",
            "__________________________________________________________________________________________________\n",
            "conv2_block1_out (Activation)   (None, 13, 13, 256)  0           conv2_block1_add[0][0]           \n",
            "__________________________________________________________________________________________________\n",
            "conv2_block2_1_conv (Conv2D)    (None, 13, 13, 64)   16448       conv2_block1_out[0][0]           \n",
            "__________________________________________________________________________________________________\n",
            "conv2_block2_1_bn (BatchNormali (None, 13, 13, 64)   256         conv2_block2_1_conv[0][0]        \n",
            "__________________________________________________________________________________________________\n",
            "conv2_block2_1_relu (Activation (None, 13, 13, 64)   0           conv2_block2_1_bn[0][0]          \n",
            "__________________________________________________________________________________________________\n",
            "conv2_block2_2_conv (Conv2D)    (None, 13, 13, 64)   36928       conv2_block2_1_relu[0][0]        \n",
            "__________________________________________________________________________________________________\n",
            "conv2_block2_2_bn (BatchNormali (None, 13, 13, 64)   256         conv2_block2_2_conv[0][0]        \n",
            "__________________________________________________________________________________________________\n",
            "conv2_block2_2_relu (Activation (None, 13, 13, 64)   0           conv2_block2_2_bn[0][0]          \n",
            "__________________________________________________________________________________________________\n",
            "conv2_block2_3_conv (Conv2D)    (None, 13, 13, 256)  16640       conv2_block2_2_relu[0][0]        \n",
            "__________________________________________________________________________________________________\n",
            "conv2_block2_3_bn (BatchNormali (None, 13, 13, 256)  1024        conv2_block2_3_conv[0][0]        \n",
            "__________________________________________________________________________________________________\n",
            "conv2_block2_add (Add)          (None, 13, 13, 256)  0           conv2_block1_out[0][0]           \n",
            "                                                                 conv2_block2_3_bn[0][0]          \n",
            "__________________________________________________________________________________________________\n",
            "conv2_block2_out (Activation)   (None, 13, 13, 256)  0           conv2_block2_add[0][0]           \n",
            "__________________________________________________________________________________________________\n",
            "conv2_block3_1_conv (Conv2D)    (None, 13, 13, 64)   16448       conv2_block2_out[0][0]           \n",
            "__________________________________________________________________________________________________\n",
            "conv2_block3_1_bn (BatchNormali (None, 13, 13, 64)   256         conv2_block3_1_conv[0][0]        \n",
            "__________________________________________________________________________________________________\n",
            "conv2_block3_1_relu (Activation (None, 13, 13, 64)   0           conv2_block3_1_bn[0][0]          \n",
            "__________________________________________________________________________________________________\n",
            "conv2_block3_2_conv (Conv2D)    (None, 13, 13, 64)   36928       conv2_block3_1_relu[0][0]        \n",
            "__________________________________________________________________________________________________\n",
            "conv2_block3_2_bn (BatchNormali (None, 13, 13, 64)   256         conv2_block3_2_conv[0][0]        \n",
            "__________________________________________________________________________________________________\n",
            "conv2_block3_2_relu (Activation (None, 13, 13, 64)   0           conv2_block3_2_bn[0][0]          \n",
            "__________________________________________________________________________________________________\n",
            "conv2_block3_3_conv (Conv2D)    (None, 13, 13, 256)  16640       conv2_block3_2_relu[0][0]        \n",
            "__________________________________________________________________________________________________\n",
            "conv2_block3_3_bn (BatchNormali (None, 13, 13, 256)  1024        conv2_block3_3_conv[0][0]        \n",
            "__________________________________________________________________________________________________\n",
            "conv2_block3_add (Add)          (None, 13, 13, 256)  0           conv2_block2_out[0][0]           \n",
            "                                                                 conv2_block3_3_bn[0][0]          \n",
            "__________________________________________________________________________________________________\n",
            "conv2_block3_out (Activation)   (None, 13, 13, 256)  0           conv2_block3_add[0][0]           \n",
            "__________________________________________________________________________________________________\n",
            "conv3_block1_1_conv (Conv2D)    (None, 7, 7, 128)    32896       conv2_block3_out[0][0]           \n",
            "__________________________________________________________________________________________________\n",
            "conv3_block1_1_bn (BatchNormali (None, 7, 7, 128)    512         conv3_block1_1_conv[0][0]        \n",
            "__________________________________________________________________________________________________\n",
            "conv3_block1_1_relu (Activation (None, 7, 7, 128)    0           conv3_block1_1_bn[0][0]          \n",
            "__________________________________________________________________________________________________\n",
            "conv3_block1_2_conv (Conv2D)    (None, 7, 7, 128)    147584      conv3_block1_1_relu[0][0]        \n",
            "__________________________________________________________________________________________________\n",
            "conv3_block1_2_bn (BatchNormali (None, 7, 7, 128)    512         conv3_block1_2_conv[0][0]        \n",
            "__________________________________________________________________________________________________\n",
            "conv3_block1_2_relu (Activation (None, 7, 7, 128)    0           conv3_block1_2_bn[0][0]          \n",
            "__________________________________________________________________________________________________\n",
            "conv3_block1_0_conv (Conv2D)    (None, 7, 7, 512)    131584      conv2_block3_out[0][0]           \n",
            "__________________________________________________________________________________________________\n",
            "conv3_block1_3_conv (Conv2D)    (None, 7, 7, 512)    66048       conv3_block1_2_relu[0][0]        \n",
            "__________________________________________________________________________________________________\n",
            "conv3_block1_0_bn (BatchNormali (None, 7, 7, 512)    2048        conv3_block1_0_conv[0][0]        \n",
            "__________________________________________________________________________________________________\n",
            "conv3_block1_3_bn (BatchNormali (None, 7, 7, 512)    2048        conv3_block1_3_conv[0][0]        \n",
            "__________________________________________________________________________________________________\n",
            "conv3_block1_add (Add)          (None, 7, 7, 512)    0           conv3_block1_0_bn[0][0]          \n",
            "                                                                 conv3_block1_3_bn[0][0]          \n",
            "__________________________________________________________________________________________________\n",
            "conv3_block1_out (Activation)   (None, 7, 7, 512)    0           conv3_block1_add[0][0]           \n",
            "__________________________________________________________________________________________________\n",
            "conv3_block2_1_conv (Conv2D)    (None, 7, 7, 128)    65664       conv3_block1_out[0][0]           \n",
            "__________________________________________________________________________________________________\n",
            "conv3_block2_1_bn (BatchNormali (None, 7, 7, 128)    512         conv3_block2_1_conv[0][0]        \n",
            "__________________________________________________________________________________________________\n",
            "conv3_block2_1_relu (Activation (None, 7, 7, 128)    0           conv3_block2_1_bn[0][0]          \n",
            "__________________________________________________________________________________________________\n",
            "conv3_block2_2_conv (Conv2D)    (None, 7, 7, 128)    147584      conv3_block2_1_relu[0][0]        \n",
            "__________________________________________________________________________________________________\n",
            "conv3_block2_2_bn (BatchNormali (None, 7, 7, 128)    512         conv3_block2_2_conv[0][0]        \n",
            "__________________________________________________________________________________________________\n",
            "conv3_block2_2_relu (Activation (None, 7, 7, 128)    0           conv3_block2_2_bn[0][0]          \n",
            "__________________________________________________________________________________________________\n",
            "conv3_block2_3_conv (Conv2D)    (None, 7, 7, 512)    66048       conv3_block2_2_relu[0][0]        \n",
            "__________________________________________________________________________________________________\n",
            "conv3_block2_3_bn (BatchNormali (None, 7, 7, 512)    2048        conv3_block2_3_conv[0][0]        \n",
            "__________________________________________________________________________________________________\n",
            "conv3_block2_add (Add)          (None, 7, 7, 512)    0           conv3_block1_out[0][0]           \n",
            "                                                                 conv3_block2_3_bn[0][0]          \n",
            "__________________________________________________________________________________________________\n",
            "conv3_block2_out (Activation)   (None, 7, 7, 512)    0           conv3_block2_add[0][0]           \n",
            "__________________________________________________________________________________________________\n",
            "conv3_block3_1_conv (Conv2D)    (None, 7, 7, 128)    65664       conv3_block2_out[0][0]           \n",
            "__________________________________________________________________________________________________\n",
            "conv3_block3_1_bn (BatchNormali (None, 7, 7, 128)    512         conv3_block3_1_conv[0][0]        \n",
            "__________________________________________________________________________________________________\n",
            "conv3_block3_1_relu (Activation (None, 7, 7, 128)    0           conv3_block3_1_bn[0][0]          \n",
            "__________________________________________________________________________________________________\n",
            "conv3_block3_2_conv (Conv2D)    (None, 7, 7, 128)    147584      conv3_block3_1_relu[0][0]        \n",
            "__________________________________________________________________________________________________\n",
            "conv3_block3_2_bn (BatchNormali (None, 7, 7, 128)    512         conv3_block3_2_conv[0][0]        \n",
            "__________________________________________________________________________________________________\n",
            "conv3_block3_2_relu (Activation (None, 7, 7, 128)    0           conv3_block3_2_bn[0][0]          \n",
            "__________________________________________________________________________________________________\n",
            "conv3_block3_3_conv (Conv2D)    (None, 7, 7, 512)    66048       conv3_block3_2_relu[0][0]        \n",
            "__________________________________________________________________________________________________\n",
            "conv3_block3_3_bn (BatchNormali (None, 7, 7, 512)    2048        conv3_block3_3_conv[0][0]        \n",
            "__________________________________________________________________________________________________\n",
            "conv3_block3_add (Add)          (None, 7, 7, 512)    0           conv3_block2_out[0][0]           \n",
            "                                                                 conv3_block3_3_bn[0][0]          \n",
            "__________________________________________________________________________________________________\n",
            "conv3_block3_out (Activation)   (None, 7, 7, 512)    0           conv3_block3_add[0][0]           \n",
            "__________________________________________________________________________________________________\n",
            "conv3_block4_1_conv (Conv2D)    (None, 7, 7, 128)    65664       conv3_block3_out[0][0]           \n",
            "__________________________________________________________________________________________________\n",
            "conv3_block4_1_bn (BatchNormali (None, 7, 7, 128)    512         conv3_block4_1_conv[0][0]        \n",
            "__________________________________________________________________________________________________\n",
            "conv3_block4_1_relu (Activation (None, 7, 7, 128)    0           conv3_block4_1_bn[0][0]          \n",
            "__________________________________________________________________________________________________\n",
            "conv3_block4_2_conv (Conv2D)    (None, 7, 7, 128)    147584      conv3_block4_1_relu[0][0]        \n",
            "__________________________________________________________________________________________________\n",
            "conv3_block4_2_bn (BatchNormali (None, 7, 7, 128)    512         conv3_block4_2_conv[0][0]        \n",
            "__________________________________________________________________________________________________\n",
            "conv3_block4_2_relu (Activation (None, 7, 7, 128)    0           conv3_block4_2_bn[0][0]          \n",
            "__________________________________________________________________________________________________\n",
            "conv3_block4_3_conv (Conv2D)    (None, 7, 7, 512)    66048       conv3_block4_2_relu[0][0]        \n",
            "__________________________________________________________________________________________________\n",
            "conv3_block4_3_bn (BatchNormali (None, 7, 7, 512)    2048        conv3_block4_3_conv[0][0]        \n",
            "__________________________________________________________________________________________________\n",
            "conv3_block4_add (Add)          (None, 7, 7, 512)    0           conv3_block3_out[0][0]           \n",
            "                                                                 conv3_block4_3_bn[0][0]          \n",
            "__________________________________________________________________________________________________\n",
            "conv3_block4_out (Activation)   (None, 7, 7, 512)    0           conv3_block4_add[0][0]           \n",
            "__________________________________________________________________________________________________\n",
            "conv4_block1_1_conv (Conv2D)    (None, 4, 4, 256)    131328      conv3_block4_out[0][0]           \n",
            "__________________________________________________________________________________________________\n",
            "conv4_block1_1_bn (BatchNormali (None, 4, 4, 256)    1024        conv4_block1_1_conv[0][0]        \n",
            "__________________________________________________________________________________________________\n",
            "conv4_block1_1_relu (Activation (None, 4, 4, 256)    0           conv4_block1_1_bn[0][0]          \n",
            "__________________________________________________________________________________________________\n",
            "conv4_block1_2_conv (Conv2D)    (None, 4, 4, 256)    590080      conv4_block1_1_relu[0][0]        \n",
            "__________________________________________________________________________________________________\n",
            "conv4_block1_2_bn (BatchNormali (None, 4, 4, 256)    1024        conv4_block1_2_conv[0][0]        \n",
            "__________________________________________________________________________________________________\n",
            "conv4_block1_2_relu (Activation (None, 4, 4, 256)    0           conv4_block1_2_bn[0][0]          \n",
            "__________________________________________________________________________________________________\n",
            "conv4_block1_0_conv (Conv2D)    (None, 4, 4, 1024)   525312      conv3_block4_out[0][0]           \n",
            "__________________________________________________________________________________________________\n",
            "conv4_block1_3_conv (Conv2D)    (None, 4, 4, 1024)   263168      conv4_block1_2_relu[0][0]        \n",
            "__________________________________________________________________________________________________\n",
            "conv4_block1_0_bn (BatchNormali (None, 4, 4, 1024)   4096        conv4_block1_0_conv[0][0]        \n",
            "__________________________________________________________________________________________________\n",
            "conv4_block1_3_bn (BatchNormali (None, 4, 4, 1024)   4096        conv4_block1_3_conv[0][0]        \n",
            "__________________________________________________________________________________________________\n",
            "conv4_block1_add (Add)          (None, 4, 4, 1024)   0           conv4_block1_0_bn[0][0]          \n",
            "                                                                 conv4_block1_3_bn[0][0]          \n",
            "__________________________________________________________________________________________________\n",
            "conv4_block1_out (Activation)   (None, 4, 4, 1024)   0           conv4_block1_add[0][0]           \n",
            "__________________________________________________________________________________________________\n",
            "conv4_block2_1_conv (Conv2D)    (None, 4, 4, 256)    262400      conv4_block1_out[0][0]           \n",
            "__________________________________________________________________________________________________\n",
            "conv4_block2_1_bn (BatchNormali (None, 4, 4, 256)    1024        conv4_block2_1_conv[0][0]        \n",
            "__________________________________________________________________________________________________\n",
            "conv4_block2_1_relu (Activation (None, 4, 4, 256)    0           conv4_block2_1_bn[0][0]          \n",
            "__________________________________________________________________________________________________\n",
            "conv4_block2_2_conv (Conv2D)    (None, 4, 4, 256)    590080      conv4_block2_1_relu[0][0]        \n",
            "__________________________________________________________________________________________________\n",
            "conv4_block2_2_bn (BatchNormali (None, 4, 4, 256)    1024        conv4_block2_2_conv[0][0]        \n",
            "__________________________________________________________________________________________________\n",
            "conv4_block2_2_relu (Activation (None, 4, 4, 256)    0           conv4_block2_2_bn[0][0]          \n",
            "__________________________________________________________________________________________________\n",
            "conv4_block2_3_conv (Conv2D)    (None, 4, 4, 1024)   263168      conv4_block2_2_relu[0][0]        \n",
            "__________________________________________________________________________________________________\n",
            "conv4_block2_3_bn (BatchNormali (None, 4, 4, 1024)   4096        conv4_block2_3_conv[0][0]        \n",
            "__________________________________________________________________________________________________\n",
            "conv4_block2_add (Add)          (None, 4, 4, 1024)   0           conv4_block1_out[0][0]           \n",
            "                                                                 conv4_block2_3_bn[0][0]          \n",
            "__________________________________________________________________________________________________\n",
            "conv4_block2_out (Activation)   (None, 4, 4, 1024)   0           conv4_block2_add[0][0]           \n",
            "__________________________________________________________________________________________________\n",
            "conv4_block3_1_conv (Conv2D)    (None, 4, 4, 256)    262400      conv4_block2_out[0][0]           \n",
            "__________________________________________________________________________________________________\n",
            "conv4_block3_1_bn (BatchNormali (None, 4, 4, 256)    1024        conv4_block3_1_conv[0][0]        \n",
            "__________________________________________________________________________________________________\n",
            "conv4_block3_1_relu (Activation (None, 4, 4, 256)    0           conv4_block3_1_bn[0][0]          \n",
            "__________________________________________________________________________________________________\n",
            "conv4_block3_2_conv (Conv2D)    (None, 4, 4, 256)    590080      conv4_block3_1_relu[0][0]        \n",
            "__________________________________________________________________________________________________\n",
            "conv4_block3_2_bn (BatchNormali (None, 4, 4, 256)    1024        conv4_block3_2_conv[0][0]        \n",
            "__________________________________________________________________________________________________\n",
            "conv4_block3_2_relu (Activation (None, 4, 4, 256)    0           conv4_block3_2_bn[0][0]          \n",
            "__________________________________________________________________________________________________\n",
            "conv4_block3_3_conv (Conv2D)    (None, 4, 4, 1024)   263168      conv4_block3_2_relu[0][0]        \n",
            "__________________________________________________________________________________________________\n",
            "conv4_block3_3_bn (BatchNormali (None, 4, 4, 1024)   4096        conv4_block3_3_conv[0][0]        \n",
            "__________________________________________________________________________________________________\n",
            "conv4_block3_add (Add)          (None, 4, 4, 1024)   0           conv4_block2_out[0][0]           \n",
            "                                                                 conv4_block3_3_bn[0][0]          \n",
            "__________________________________________________________________________________________________\n",
            "conv4_block3_out (Activation)   (None, 4, 4, 1024)   0           conv4_block3_add[0][0]           \n",
            "__________________________________________________________________________________________________\n",
            "conv4_block4_1_conv (Conv2D)    (None, 4, 4, 256)    262400      conv4_block3_out[0][0]           \n",
            "__________________________________________________________________________________________________\n",
            "conv4_block4_1_bn (BatchNormali (None, 4, 4, 256)    1024        conv4_block4_1_conv[0][0]        \n",
            "__________________________________________________________________________________________________\n",
            "conv4_block4_1_relu (Activation (None, 4, 4, 256)    0           conv4_block4_1_bn[0][0]          \n",
            "__________________________________________________________________________________________________\n",
            "conv4_block4_2_conv (Conv2D)    (None, 4, 4, 256)    590080      conv4_block4_1_relu[0][0]        \n",
            "__________________________________________________________________________________________________\n",
            "conv4_block4_2_bn (BatchNormali (None, 4, 4, 256)    1024        conv4_block4_2_conv[0][0]        \n",
            "__________________________________________________________________________________________________\n",
            "conv4_block4_2_relu (Activation (None, 4, 4, 256)    0           conv4_block4_2_bn[0][0]          \n",
            "__________________________________________________________________________________________________\n",
            "conv4_block4_3_conv (Conv2D)    (None, 4, 4, 1024)   263168      conv4_block4_2_relu[0][0]        \n",
            "__________________________________________________________________________________________________\n",
            "conv4_block4_3_bn (BatchNormali (None, 4, 4, 1024)   4096        conv4_block4_3_conv[0][0]        \n",
            "__________________________________________________________________________________________________\n",
            "conv4_block4_add (Add)          (None, 4, 4, 1024)   0           conv4_block3_out[0][0]           \n",
            "                                                                 conv4_block4_3_bn[0][0]          \n",
            "__________________________________________________________________________________________________\n",
            "conv4_block4_out (Activation)   (None, 4, 4, 1024)   0           conv4_block4_add[0][0]           \n",
            "__________________________________________________________________________________________________\n",
            "conv4_block5_1_conv (Conv2D)    (None, 4, 4, 256)    262400      conv4_block4_out[0][0]           \n",
            "__________________________________________________________________________________________________\n",
            "conv4_block5_1_bn (BatchNormali (None, 4, 4, 256)    1024        conv4_block5_1_conv[0][0]        \n",
            "__________________________________________________________________________________________________\n",
            "conv4_block5_1_relu (Activation (None, 4, 4, 256)    0           conv4_block5_1_bn[0][0]          \n",
            "__________________________________________________________________________________________________\n",
            "conv4_block5_2_conv (Conv2D)    (None, 4, 4, 256)    590080      conv4_block5_1_relu[0][0]        \n",
            "__________________________________________________________________________________________________\n",
            "conv4_block5_2_bn (BatchNormali (None, 4, 4, 256)    1024        conv4_block5_2_conv[0][0]        \n",
            "__________________________________________________________________________________________________\n",
            "conv4_block5_2_relu (Activation (None, 4, 4, 256)    0           conv4_block5_2_bn[0][0]          \n",
            "__________________________________________________________________________________________________\n",
            "conv4_block5_3_conv (Conv2D)    (None, 4, 4, 1024)   263168      conv4_block5_2_relu[0][0]        \n",
            "__________________________________________________________________________________________________\n",
            "conv4_block5_3_bn (BatchNormali (None, 4, 4, 1024)   4096        conv4_block5_3_conv[0][0]        \n",
            "__________________________________________________________________________________________________\n",
            "conv4_block5_add (Add)          (None, 4, 4, 1024)   0           conv4_block4_out[0][0]           \n",
            "                                                                 conv4_block5_3_bn[0][0]          \n",
            "__________________________________________________________________________________________________\n",
            "conv4_block5_out (Activation)   (None, 4, 4, 1024)   0           conv4_block5_add[0][0]           \n",
            "__________________________________________________________________________________________________\n",
            "conv4_block6_1_conv (Conv2D)    (None, 4, 4, 256)    262400      conv4_block5_out[0][0]           \n",
            "__________________________________________________________________________________________________\n",
            "conv4_block6_1_bn (BatchNormali (None, 4, 4, 256)    1024        conv4_block6_1_conv[0][0]        \n",
            "__________________________________________________________________________________________________\n",
            "conv4_block6_1_relu (Activation (None, 4, 4, 256)    0           conv4_block6_1_bn[0][0]          \n",
            "__________________________________________________________________________________________________\n",
            "conv4_block6_2_conv (Conv2D)    (None, 4, 4, 256)    590080      conv4_block6_1_relu[0][0]        \n",
            "__________________________________________________________________________________________________\n",
            "conv4_block6_2_bn (BatchNormali (None, 4, 4, 256)    1024        conv4_block6_2_conv[0][0]        \n",
            "__________________________________________________________________________________________________\n",
            "conv4_block6_2_relu (Activation (None, 4, 4, 256)    0           conv4_block6_2_bn[0][0]          \n",
            "__________________________________________________________________________________________________\n",
            "conv4_block6_3_conv (Conv2D)    (None, 4, 4, 1024)   263168      conv4_block6_2_relu[0][0]        \n",
            "__________________________________________________________________________________________________\n",
            "conv4_block6_3_bn (BatchNormali (None, 4, 4, 1024)   4096        conv4_block6_3_conv[0][0]        \n",
            "__________________________________________________________________________________________________\n",
            "conv4_block6_add (Add)          (None, 4, 4, 1024)   0           conv4_block5_out[0][0]           \n",
            "                                                                 conv4_block6_3_bn[0][0]          \n",
            "__________________________________________________________________________________________________\n",
            "conv4_block6_out (Activation)   (None, 4, 4, 1024)   0           conv4_block6_add[0][0]           \n",
            "__________________________________________________________________________________________________\n",
            "conv5_block1_1_conv (Conv2D)    (None, 2, 2, 512)    524800      conv4_block6_out[0][0]           \n",
            "__________________________________________________________________________________________________\n",
            "conv5_block1_1_bn (BatchNormali (None, 2, 2, 512)    2048        conv5_block1_1_conv[0][0]        \n",
            "__________________________________________________________________________________________________\n",
            "conv5_block1_1_relu (Activation (None, 2, 2, 512)    0           conv5_block1_1_bn[0][0]          \n",
            "__________________________________________________________________________________________________\n",
            "conv5_block1_2_conv (Conv2D)    (None, 2, 2, 512)    2359808     conv5_block1_1_relu[0][0]        \n",
            "__________________________________________________________________________________________________\n",
            "conv5_block1_2_bn (BatchNormali (None, 2, 2, 512)    2048        conv5_block1_2_conv[0][0]        \n",
            "__________________________________________________________________________________________________\n",
            "conv5_block1_2_relu (Activation (None, 2, 2, 512)    0           conv5_block1_2_bn[0][0]          \n",
            "__________________________________________________________________________________________________\n",
            "conv5_block1_0_conv (Conv2D)    (None, 2, 2, 2048)   2099200     conv4_block6_out[0][0]           \n",
            "__________________________________________________________________________________________________\n",
            "conv5_block1_3_conv (Conv2D)    (None, 2, 2, 2048)   1050624     conv5_block1_2_relu[0][0]        \n",
            "__________________________________________________________________________________________________\n",
            "conv5_block1_0_bn (BatchNormali (None, 2, 2, 2048)   8192        conv5_block1_0_conv[0][0]        \n",
            "__________________________________________________________________________________________________\n",
            "conv5_block1_3_bn (BatchNormali (None, 2, 2, 2048)   8192        conv5_block1_3_conv[0][0]        \n",
            "__________________________________________________________________________________________________\n",
            "conv5_block1_add (Add)          (None, 2, 2, 2048)   0           conv5_block1_0_bn[0][0]          \n",
            "                                                                 conv5_block1_3_bn[0][0]          \n",
            "__________________________________________________________________________________________________\n",
            "conv5_block1_out (Activation)   (None, 2, 2, 2048)   0           conv5_block1_add[0][0]           \n",
            "__________________________________________________________________________________________________\n",
            "conv5_block2_1_conv (Conv2D)    (None, 2, 2, 512)    1049088     conv5_block1_out[0][0]           \n",
            "__________________________________________________________________________________________________\n",
            "conv5_block2_1_bn (BatchNormali (None, 2, 2, 512)    2048        conv5_block2_1_conv[0][0]        \n",
            "__________________________________________________________________________________________________\n",
            "conv5_block2_1_relu (Activation (None, 2, 2, 512)    0           conv5_block2_1_bn[0][0]          \n",
            "__________________________________________________________________________________________________\n",
            "conv5_block2_2_conv (Conv2D)    (None, 2, 2, 512)    2359808     conv5_block2_1_relu[0][0]        \n",
            "__________________________________________________________________________________________________\n",
            "conv5_block2_2_bn (BatchNormali (None, 2, 2, 512)    2048        conv5_block2_2_conv[0][0]        \n",
            "__________________________________________________________________________________________________\n",
            "conv5_block2_2_relu (Activation (None, 2, 2, 512)    0           conv5_block2_2_bn[0][0]          \n",
            "__________________________________________________________________________________________________\n",
            "conv5_block2_3_conv (Conv2D)    (None, 2, 2, 2048)   1050624     conv5_block2_2_relu[0][0]        \n",
            "__________________________________________________________________________________________________\n",
            "conv5_block2_3_bn (BatchNormali (None, 2, 2, 2048)   8192        conv5_block2_3_conv[0][0]        \n",
            "__________________________________________________________________________________________________\n",
            "conv5_block2_add (Add)          (None, 2, 2, 2048)   0           conv5_block1_out[0][0]           \n",
            "                                                                 conv5_block2_3_bn[0][0]          \n",
            "__________________________________________________________________________________________________\n",
            "conv5_block2_out (Activation)   (None, 2, 2, 2048)   0           conv5_block2_add[0][0]           \n",
            "__________________________________________________________________________________________________\n",
            "conv5_block3_1_conv (Conv2D)    (None, 2, 2, 512)    1049088     conv5_block2_out[0][0]           \n",
            "__________________________________________________________________________________________________\n",
            "conv5_block3_1_bn (BatchNormali (None, 2, 2, 512)    2048        conv5_block3_1_conv[0][0]        \n",
            "__________________________________________________________________________________________________\n",
            "conv5_block3_1_relu (Activation (None, 2, 2, 512)    0           conv5_block3_1_bn[0][0]          \n",
            "__________________________________________________________________________________________________\n",
            "conv5_block3_2_conv (Conv2D)    (None, 2, 2, 512)    2359808     conv5_block3_1_relu[0][0]        \n",
            "__________________________________________________________________________________________________\n",
            "conv5_block3_2_bn (BatchNormali (None, 2, 2, 512)    2048        conv5_block3_2_conv[0][0]        \n",
            "__________________________________________________________________________________________________\n",
            "conv5_block3_2_relu (Activation (None, 2, 2, 512)    0           conv5_block3_2_bn[0][0]          \n",
            "__________________________________________________________________________________________________\n",
            "conv5_block3_3_conv (Conv2D)    (None, 2, 2, 2048)   1050624     conv5_block3_2_relu[0][0]        \n",
            "__________________________________________________________________________________________________\n",
            "conv5_block3_3_bn (BatchNormali (None, 2, 2, 2048)   8192        conv5_block3_3_conv[0][0]        \n",
            "__________________________________________________________________________________________________\n",
            "conv5_block3_add (Add)          (None, 2, 2, 2048)   0           conv5_block2_out[0][0]           \n",
            "                                                                 conv5_block3_3_bn[0][0]          \n",
            "__________________________________________________________________________________________________\n",
            "conv5_block3_out (Activation)   (None, 2, 2, 2048)   0           conv5_block3_add[0][0]           \n",
            "__________________________________________________________________________________________________\n",
            "average_pooling2d_3 (AveragePoo (None, 1, 1, 2048)   0           conv5_block3_out[0][0]           \n",
            "__________________________________________________________________________________________________\n",
            "flatten (Flatten)               (None, 2048)         0           average_pooling2d_3[0][0]        \n",
            "__________________________________________________________________________________________________\n",
            "dense_10 (Dense)                (None, 128)          262272      flatten[0][0]                    \n",
            "__________________________________________________________________________________________________\n",
            "dropout_6 (Dropout)             (None, 128)          0           dense_10[0][0]                   \n",
            "__________________________________________________________________________________________________\n",
            "batch_normalization_8 (BatchNor (None, 128)          512         dropout_6[0][0]                  \n",
            "__________________________________________________________________________________________________\n",
            "dense_11 (Dense)                (None, 128)          16512       batch_normalization_8[0][0]      \n",
            "__________________________________________________________________________________________________\n",
            "dropout_7 (Dropout)             (None, 128)          0           dense_11[0][0]                   \n",
            "__________________________________________________________________________________________________\n",
            "batch_normalization_9 (BatchNor (None, 128)          512         dropout_7[0][0]                  \n",
            "__________________________________________________________________________________________________\n",
            "dense_12 (Dense)                (None, 2)            258         batch_normalization_9[0][0]      \n",
            "==================================================================================================\n",
            "Total params: 23,867,778\n",
            "Trainable params: 23,814,146\n",
            "Non-trainable params: 53,632\n",
            "__________________________________________________________________________________________________\n"
          ]
        }
      ],
      "source": [
        "model.summary()"
      ]
    },
    {
      "cell_type": "code",
      "execution_count": 66,
      "metadata": {
        "id": "iHvUPyzIiOsN",
        "vscode": {
          "languageId": "python"
        }
      },
      "outputs": [],
      "source": [
        "def f1_score(y_true, y_pred): \n",
        "    true_positives = K.sum(K.round(K.clip(y_true * y_pred, 0, 1)))\n",
        "    possible_positives = K.sum(K.round(K.clip(y_true, 0, 1)))\n",
        "    predicted_positives = K.sum(K.round(K.clip(y_pred, 0, 1)))\n",
        "    precision = true_positives / (predicted_positives + K.epsilon())\n",
        "    recall = true_positives / (possible_positives + K.epsilon())\n",
        "    f1_val = 2*(precision*recall)/(precision+recall+K.epsilon())\n",
        "    return f1_val"
      ]
    },
    {
      "cell_type": "code",
      "execution_count": 67,
      "metadata": {
        "id": "1Vx7VhQQiOsa",
        "vscode": {
          "languageId": "python"
        }
      },
      "outputs": [],
      "source": [
        "model.compile(loss='categorical_crossentropy', \n",
        "              optimizer='adam', \n",
        "              metrics=['accuracy', Precision(), Recall(), f1_score])"
      ]
    },
    {
      "cell_type": "code",
      "execution_count": 68,
      "metadata": {
        "colab": {
          "base_uri": "https://localhost:8080/"
        },
        "id": "KbkhfPb6iOsa",
        "outputId": "9586dcd0-2bd5-480b-a8ef-7027bf5b6e70",
        "vscode": {
          "languageId": "python"
        }
      },
      "outputs": [
        {
          "name": "stdout",
          "output_type": "stream",
          "text": [
            "Found 38660 validated image filenames.\n",
            "Found 44318 validated image filenames.\n"
          ]
        }
      ],
      "source": [
        "generator = ImageDataGenerator(rescale=1./255,\n",
        "                               horizontal_flip=True,\n",
        "                               rotation_range=90)\n",
        "\n",
        "train_generator = generator.flow(X_train_reshaped, \n",
        "                                 y_train_hot,     \n",
        "                                 batch_size=batch_size)   \n",
        "               \n",
        "val_generator = generator.flow_from_dataframe(dataframe=val_df,\n",
        "                                                x_col=\"path\",\n",
        "                                                y_col=[\"negative\",\"positive\"],\n",
        "                                                class_mode=\"raw\",\n",
        "                                                target_size = (img_height,img_width),                   \n",
        "                                                batch_size=batch_size)\n",
        "\n",
        "test_generator = generator.flow_from_dataframe(dataframe=test_df,\n",
        "                                                x_col=\"path\",\n",
        "                                                y_col=[\"negative\",\"positive\"],\n",
        "                                                class_mode=\"raw\",\n",
        "                                                target_size = (img_height,img_width),                   \n",
        "                                                batch_size=batch_size,\n",
        "                                                shuffle=False)"
      ]
    },
    {
      "cell_type": "code",
      "execution_count": 71,
      "metadata": {
        "id": "NJnADQkJiOsb",
        "vscode": {
          "languageId": "python"
        }
      },
      "outputs": [],
      "source": [
        "logdir = os.path.join(\"./logs/ResNet\", datetime.datetime.now().strftime(\"%Y%m%d-%H%M%S\"))\n",
        "tensorboard_callback = tf.keras.callbacks.TensorBoard(logdir,histogram_freq=1)"
      ]
    },
    {
      "cell_type": "code",
      "execution_count": 72,
      "metadata": {
        "colab": {
          "base_uri": "https://localhost:8080/"
        },
        "id": "BFw_STq9iOsb",
        "outputId": "2ca6d6ae-a15c-4acc-b222-2736b8df4a17",
        "vscode": {
          "languageId": "python"
        }
      },
      "outputs": [
        {
          "name": "stdout",
          "output_type": "stream",
          "text": [
            "Epoch 1/10\n",
            "853/853 [==============================] - 166s 195ms/step - loss: 0.4077 - accuracy: 0.8219 - precision_3: 0.8219 - recall_3: 0.8219 - f1_score: 0.8221 - val_loss: 0.5389 - val_accuracy: 0.8482 - val_precision_3: 0.8482 - val_recall_3: 0.8482 - val_f1_score: 0.8482\n",
            "Epoch 2/10\n",
            "853/853 [==============================] - 164s 192ms/step - loss: 0.3802 - accuracy: 0.8360 - precision_3: 0.8360 - recall_3: 0.8360 - f1_score: 0.8360 - val_loss: 0.7522 - val_accuracy: 0.7745 - val_precision_3: 0.7745 - val_recall_3: 0.7745 - val_f1_score: 0.7745\n",
            "Epoch 3/10\n",
            "853/853 [==============================] - 163s 191ms/step - loss: 0.3623 - accuracy: 0.8447 - precision_3: 0.8447 - recall_3: 0.8447 - f1_score: 0.8448 - val_loss: 0.4903 - val_accuracy: 0.8250 - val_precision_3: 0.8250 - val_recall_3: 0.8250 - val_f1_score: 0.8250\n",
            "Epoch 4/10\n",
            "853/853 [==============================] - 163s 191ms/step - loss: 0.3526 - accuracy: 0.8507 - precision_3: 0.8507 - recall_3: 0.8507 - f1_score: 0.8507 - val_loss: 0.5251 - val_accuracy: 0.8287 - val_precision_3: 0.8287 - val_recall_3: 0.8287 - val_f1_score: 0.8287\n",
            "Epoch 5/10\n",
            "853/853 [==============================] - 163s 191ms/step - loss: 0.3474 - accuracy: 0.8521 - precision_3: 0.8521 - recall_3: 0.8521 - f1_score: 0.8519 - val_loss: 0.4010 - val_accuracy: 0.8477 - val_precision_3: 0.8477 - val_recall_3: 0.8477 - val_f1_score: 0.8477\n",
            "Epoch 6/10\n",
            "853/853 [==============================] - 163s 191ms/step - loss: 0.3456 - accuracy: 0.8537 - precision_3: 0.8537 - recall_3: 0.8537 - f1_score: 0.8537 - val_loss: 0.4140 - val_accuracy: 0.8490 - val_precision_3: 0.8490 - val_recall_3: 0.8490 - val_f1_score: 0.8490\n",
            "Epoch 7/10\n",
            "853/853 [==============================] - 165s 193ms/step - loss: 0.3404 - accuracy: 0.8556 - precision_3: 0.8556 - recall_3: 0.8556 - f1_score: 0.8552 - val_loss: 1.1195 - val_accuracy: 0.8016 - val_precision_3: 0.8016 - val_recall_3: 0.8016 - val_f1_score: 0.8016\n",
            "Epoch 8/10\n",
            "853/853 [==============================] - 165s 194ms/step - loss: 0.3339 - accuracy: 0.8583 - precision_3: 0.8583 - recall_3: 0.8583 - f1_score: 0.8582 - val_loss: 2.6779 - val_accuracy: 0.8027 - val_precision_3: 0.8027 - val_recall_3: 0.8027 - val_f1_score: 0.8027\n",
            "Epoch 9/10\n",
            "853/853 [==============================] - 165s 194ms/step - loss: 0.3307 - accuracy: 0.8598 - precision_3: 0.8598 - recall_3: 0.8598 - f1_score: 0.8596 - val_loss: 0.4506 - val_accuracy: 0.8246 - val_precision_3: 0.8246 - val_recall_3: 0.8246 - val_f1_score: 0.8246\n",
            "Epoch 10/10\n",
            "853/853 [==============================] - 166s 195ms/step - loss: 0.3288 - accuracy: 0.8612 - precision_3: 0.8612 - recall_3: 0.8612 - f1_score: 0.8613 - val_loss: 0.8601 - val_accuracy: 0.7628 - val_precision_3: 0.7628 - val_recall_3: 0.7628 - val_f1_score: 0.7628\n"
          ]
        }
      ],
      "source": [
        "#save best model\n",
        "filepath = './models/ResNet.h5'\n",
        "callbacks = [ModelCheckpoint(filepath, monitor = 'val_loss', save_best_only=True),\n",
        "             tensorboard_callback] \n",
        "\n",
        "#Train model\n",
        "hist = model.fit(train_generator, \n",
        "                    steps_per_epoch=len(y_train_hot)//batch_size, \n",
        "                    epochs=num_epochs, \n",
        "                    verbose=1, \n",
        "                    validation_data=val_generator, \n",
        "                    validation_steps=val_generator.samples//batch_size,\n",
        "                    callbacks=callbacks) "
      ]
    },
    {
      "cell_type": "code",
      "execution_count": null,
      "metadata": {
        "id": "lDBgig9tiOsc",
        "vscode": {
          "languageId": "python"
        }
      },
      "outputs": [],
      "source": [
        "%tensorboard --logdir logs/ResNet"
      ]
    },
    {
      "cell_type": "code",
      "execution_count": 74,
      "metadata": {
        "colab": {
          "base_uri": "https://localhost:8080/",
          "height": 265
        },
        "id": "ZIWjG86TiOsc",
        "outputId": "2e050811-9d82-4fa5-d78e-3fb0f3b41aff",
        "vscode": {
          "languageId": "python"
        }
      },
      "outputs": [
        {
          "data": {
            "image/png": "[encoded data removed]",
            "text/plain": [
              "<Figure size 432x288 with 1 Axes>"
            ]
          },
          "metadata": {
            "needs_background": "light",
            "tags": []
          },
          "output_type": "display_data"
        }
      ],
      "source": [
        "plt.plot(hist.history[\"loss\"],label=\"training loss\")\n",
        "plt.plot(hist.history[\"val_loss\"],label=\"validation loss\")\n",
        "plt.legend()\n",
        "plt.show();"
      ]
    },
    {
      "cell_type": "code",
      "execution_count": 75,
      "metadata": {
        "colab": {
          "base_uri": "https://localhost:8080/",
          "height": 265
        },
        "id": "zLgOYLGliOsd",
        "outputId": "a72b5bea-ad5d-4bf2-db04-5e85f3bb3b42",
        "vscode": {
          "languageId": "python"
        }
      },
      "outputs": [
        {
          "data": {
            "image/png": "[encoded data removed]",
            "text/plain": [
              "<Figure size 432x288 with 1 Axes>"
            ]
          },
          "metadata": {
            "needs_background": "light",
            "tags": []
          },
          "output_type": "display_data"
        }
      ],
      "source": [
        "plt.plot(hist.history[\"accuracy\"],label=\"training accuracy\")\n",
        "plt.plot(hist.history[\"val_accuracy\"],label=\"validation accuracy\")\n",
        "plt.legend()\n",
        "plt.show();"
      ]
    },
    {
      "cell_type": "code",
      "execution_count": 76,
      "metadata": {
        "colab": {
          "base_uri": "https://localhost:8080/"
        },
        "id": "x1Lt8H5oiOsd",
        "outputId": "23e444e1-5c58-4efb-fe1c-e57cf4f13f97",
        "vscode": {
          "languageId": "python"
        }
      },
      "outputs": [
        {
          "name": "stdout",
          "output_type": "stream",
          "text": [
            "347/347 [==============================] - 51s 142ms/step - loss: 0.4619 - accuracy: 0.8305 - precision_4: 0.8305 - recall_4: 0.8305 - f1_score: 0.8305\n",
            "Test loss:  0.4637153744697571\n",
            "Test accuracy: 0.8362967371940613\n",
            "Test precision: 0.8362967371940613\n",
            "Test recall: 0.8362967371940613\n",
            "Test f1_score: 0.8361430168151855\n"
          ]
        }
      ],
      "source": [
        "model = load_model('./models/ResNet.h5', custom_objects={'f1_score': f1_score})\n",
        "\n",
        "model.compile(loss='binary_crossentropy', \n",
        "              optimizer='adam', \n",
        "              metrics=['accuracy', Precision(), Recall(), f1_score])\n",
        "\n",
        "loss, accuracy, precision, recall, f1_score = model.evaluate(test_generator)\n",
        "print('Test loss: ', loss)\n",
        "print('Test accuracy:', accuracy)\n",
        "print('Test precision:', precision)\n",
        "print('Test recall:', recall)\n",
        "print('Test f1_score:', f1_score)"
      ]
    },
    {
      "cell_type": "code",
      "execution_count": 77,
      "metadata": {
        "colab": {
          "base_uri": "https://localhost:8080/",
          "height": 405
        },
        "id": "pmgfqaBZiOsd",
        "outputId": "ca730c00-cad8-46e3-cc53-ec7c583b2fd5",
        "vscode": {
          "languageId": "python"
        }
      },
      "outputs": [
        {
          "data": {
            "text/plain": [
              "Text(0.5, 33.0, 'Predicted label')"
            ]
          },
          "execution_count": 77,
          "metadata": {
            "tags": []
          },
          "output_type": "execute_result"
        },
        {
          "data": {
            "image/png": "[encoded data removed]",
            "text/plain": [
              "<Figure size 576x432 with 1 Axes>"
            ]
          },
          "metadata": {
            "needs_background": "light",
            "tags": []
          },
          "output_type": "display_data"
        }
      ],
      "source": [
        "test_generator.reset()\n",
        "predictions = model.predict(test_generator,\n",
        "                            steps = np.ceil(test_generator.samples/batch_size)\n",
        "                            )\n",
        "y_pred = np.argmax(predictions, axis=-1)\n",
        "# y_test = test_generator.labels\n",
        "y_test = test_df.target.to_numpy().astype(np.int)\n",
        "\n",
        "cf_matrix = confusion_matrix(y_test, y_pred)\n",
        "\n",
        "#Prepare visuals\n",
        "group_counts = [\"{0:0.0f}\".format(value) for value in\n",
        "                cf_matrix.flatten()]\n",
        "group_percentages = [\"{0:.2%}\".format(value) for value in\n",
        "                     cf_matrix.flatten()/np.sum(cf_matrix)]\n",
        "labels = [f\"{v1}\\n{v2}\" for v1, v2 in\n",
        "          zip(group_counts,group_percentages)]\n",
        "labels = np.asarray(labels).reshape(2,2)\n",
        "\n",
        "# MAKE THE HEATMAP VISUALIZATION\n",
        "plt.figure(figsize=(8,6))\n",
        "sns.heatmap(cf_matrix, annot=labels, fmt='', cmap='Blues', cbar=False)\n",
        "plt.ylabel('True label')\n",
        "plt.xlabel('Predicted label')"
      ]
    }
  ],
  "metadata": {
    "accelerator": "GPU",
    "colab": {
      "name": "Breast_Histopathology_Images.ipynb",
      "provenance": [],
      "toc_visible": true
    },
    "kernelspec": {
      "display_name": "Python 3",
      "name": "python3"
    }
  },
  "nbformat": 4,
  "nbformat_minor": 0
}
